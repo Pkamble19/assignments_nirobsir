{
 "cells": [
  {
   "cell_type": "markdown",
   "id": "e685180e",
   "metadata": {},
   "source": [
    "# 1. Remove empty strings from a list of strings\n",
    "\n",
    "# X = [\"abc\", \" \", 'hello', \"    \", \"do\"]\n",
    "\n",
    "# Output = [\"abc\", 'hello', \"do\"]\n"
   ]
  },
  {
   "cell_type": "code",
   "execution_count": 1,
   "id": "6012b6ee",
   "metadata": {},
   "outputs": [
    {
     "name": "stdout",
     "output_type": "stream",
     "text": [
      "['abc', 'hello', 'do']\n"
     ]
    }
   ],
   "source": [
    "#method 1\n",
    "X = [\"abc\", \" \", 'hello', \"    \", \"do\"]\n",
    "for i in X:\n",
    "    if i == \" \" or i == \"    \":\n",
    "        X.remove(i)\n",
    "print(X)"
   ]
  },
  {
   "cell_type": "code",
   "execution_count": 2,
   "id": "62f551d7",
   "metadata": {},
   "outputs": [
    {
     "name": "stdout",
     "output_type": "stream",
     "text": [
      "['abc', 'hello', 'do']\n"
     ]
    }
   ],
   "source": [
    "#\n",
    "X = [\"abc\", \" \", 'hello', \"    \", \"do\"]\n",
    "for i in X:\n",
    "    if i.isspace():\n",
    "        X.remove(i)\n",
    "print(X)"
   ]
  },
  {
   "cell_type": "code",
   "execution_count": 3,
   "id": "ebe739d2",
   "metadata": {},
   "outputs": [
    {
     "name": "stdout",
     "output_type": "stream",
     "text": [
      "['abc', 'hello', 'do']\n"
     ]
    }
   ],
   "source": [
    "#method 3\n",
    "X = [\"abc\", \" \", 'hello', \"    \", \"do\"]\n",
    "for i in X:\n",
    "    if i.isalnum():\n",
    "        pass\n",
    "    else:\n",
    "        X.remove(i)\n",
    "print(X)"
   ]
  },
  {
   "cell_type": "code",
   "execution_count": 4,
   "id": "73c8af30",
   "metadata": {},
   "outputs": [
    {
     "name": "stdout",
     "output_type": "stream",
     "text": [
      "['abc', 'hello', 'do']\n"
     ]
    }
   ],
   "source": [
    "#method 3\n",
    "X = [\"abc\", \" \", 'hello', \"    \", \"do\"]\n",
    "X2 = []\n",
    "for i in X:\n",
    "    if i.strip():\n",
    "        X2.append(i)\n",
    "print(X2)"
   ]
  },
  {
   "cell_type": "code",
   "execution_count": 5,
   "id": "2f9aaec2",
   "metadata": {},
   "outputs": [
    {
     "name": "stdout",
     "output_type": "stream",
     "text": [
      "['abc', 'hello', 'do']\n"
     ]
    }
   ],
   "source": [
    "#method 4\n",
    "X = [\"abc\", \" \", 'hello', \"    \", \"do\"]\n",
    "X2 = []\n",
    "for i in X:\n",
    "    if i.strip():\n",
    "        X2.append(i)\n",
    "print(X2)"
   ]
  },
  {
   "cell_type": "markdown",
   "id": "18ca655e",
   "metadata": {},
   "source": [
    "# 2. Write a program to display the largest word from the string."
   ]
  },
  {
   "cell_type": "code",
   "execution_count": 6,
   "id": "fd4d556a",
   "metadata": {},
   "outputs": [
    {
     "name": "stdout",
     "output_type": "stream",
     "text": [
      " commemorating : 13\n"
     ]
    }
   ],
   "source": [
    "#method 1\n",
    "def large_word(X):\n",
    "    X=list(X.split(\" \"))\n",
    "    X=sorted(X , key=len)\n",
    "    print(f' {X[-1]} : {len(X[-1])}' )\n",
    "large_word(\"Independence Day is celebrated annually on 15 August as a national holiday in India commemorating the nation's independence from the United Kingdom on 15 August 1947\")"
   ]
  },
  {
   "cell_type": "code",
   "execution_count": 7,
   "id": "2b9d8fd6",
   "metadata": {},
   "outputs": [
    {
     "name": "stdout",
     "output_type": "stream",
     "text": [
      "commemorating : 13\n"
     ]
    }
   ],
   "source": [
    "#method 2\n",
    "def large_word(X):\n",
    "    X=X.split()\n",
    "    b_w=0\n",
    "    for i in X:\n",
    "        if len(i)>b_w:\n",
    "            b_w=len(i)\n",
    "    for i in X:\n",
    "        if len(i)==b_w:\n",
    "            print(i,\":\",b_w)\n",
    "\n",
    "large_word(\"Independence Day is celebrated annually on 15 August as a national holiday in India commemorating the nation's independence from the United Kingdom on 15 August 1947\")"
   ]
  },
  {
   "cell_type": "markdown",
   "id": "a33bc469",
   "metadata": {},
   "source": [
    "# 3.Write a python program to sort letters of word by lower to upper case format.\n",
    "\n",
    "# X = pytHOnloBBy\n",
    "\n",
    "# Output=  p y t n l o y H O B B\n"
   ]
  },
  {
   "cell_type": "code",
   "execution_count": 8,
   "id": "66b9fe00",
   "metadata": {},
   "outputs": [
    {
     "name": "stdout",
     "output_type": "stream",
     "text": [
      "p y t n l o y H O B B \n"
     ]
    }
   ],
   "source": [
    "X = \"pytHOnloBBy\"\n",
    "output=\"\"\n",
    "for i in X:\n",
    "    if i.islower():\n",
    "        output=output+i+\" \"\n",
    "for i in X:\n",
    "    if i.isupper():\n",
    "        output=output+i+\" \"\n",
    "print(output)\n",
    "    \n",
    "    "
   ]
  },
  {
   "cell_type": "markdown",
   "id": "cd5ce8f7",
   "metadata": {},
   "source": [
    "# 4. Python program to search a specific word in a string."
   ]
  },
  {
   "cell_type": "code",
   "execution_count": 9,
   "id": "896cd87b",
   "metadata": {},
   "outputs": [
    {
     "name": "stdout",
     "output_type": "stream",
     "text": [
      "Entre your string = I am a boy\n",
      "Entre your word to find = boy\n",
      "boy exists in string\n"
     ]
    }
   ],
   "source": [
    "#method1\n",
    "text=str(input(\"Entre your string = \"))\n",
    "word=str(input(\"Entre your word to find = \"))\n",
    "text=text.split()\n",
    "a=0\n",
    "for i in text:\n",
    "    if i == word:\n",
    "        print(f'{word} exists in string')\n",
    "        a=a+1\n",
    "if a==0:\n",
    "    print(f'{word} not exists in string')        "
   ]
  },
  {
   "cell_type": "code",
   "execution_count": 10,
   "id": "2c43f8cf",
   "metadata": {},
   "outputs": [
    {
     "name": "stdout",
     "output_type": "stream",
     "text": [
      "Entre your string = I am a boy\n",
      "Entre your word to find = girl\n",
      "girl not exists in string\n"
     ]
    }
   ],
   "source": [
    "#metho2\n",
    "text=str(input(\"Entre your string = \"))\n",
    "word=str(input(\"Entre your word to find = \"))\n",
    "text1=[]\n",
    "a=\"\"\n",
    "a1=0\n",
    "for i in text:\n",
    "    if i == \" \":\n",
    "        text1.append(a)\n",
    "        a=\"\"\n",
    "    elif i == text[-1]:\n",
    "        text1.append(a+text[-1])\n",
    "    else:\n",
    "        a=a+i\n",
    "for i in text1:\n",
    "    if i == word:\n",
    "        print(f'{word} exists in string')\n",
    "        a1=a1+1\n",
    "if a1==0:\n",
    "    print(f'{word} not exists in string') \n",
    " "
   ]
  },
  {
   "cell_type": "markdown",
   "id": "877e3b15",
   "metadata": {},
   "source": [
    "# 5. Write a program to remove duplicates in a string."
   ]
  },
  {
   "cell_type": "code",
   "execution_count": 11,
   "id": "6f3a4bc0",
   "metadata": {},
   "outputs": [
    {
     "name": "stdout",
     "output_type": "stream",
     "text": [
      " Result is: p y t h o n l b \n"
     ]
    }
   ],
   "source": [
    "Input = \"pythonlobby\"\n",
    "d={}\n",
    "input1=\"\"\n",
    "for  i  in Input:\n",
    "    d[i]=i\n",
    "for i in d.keys():\n",
    "    input1=input1+i+\" \"\n",
    "print(f' Result is: {input1}')"
   ]
  },
  {
   "cell_type": "markdown",
   "id": "1e54917d",
   "metadata": {},
   "source": [
    "# 6. Write a program that takes your full name as input and displays the abbreviations of the first and middle names except the last name which is displayed as it is. For example, if your name is Robert Brett Roser, then the output should be R.B.Roser.\n",
    "    \n"
   ]
  },
  {
   "cell_type": "code",
   "execution_count": 12,
   "id": "5812ee7f",
   "metadata": {},
   "outputs": [
    {
     "name": "stdout",
     "output_type": "stream",
     "text": [
      "Entre Your Full Name \n",
      "Prathamesh Prkash Kamble\n",
      "P.P.Kamble\n"
     ]
    }
   ],
   "source": [
    "#method 1\n",
    "Your_name=list((input(\"Entre Your Full Name \\n\")).split())\n",
    "print(f'{Your_name[0][0]}.{Your_name[1][0]}.{Your_name[2]}')"
   ]
  }
 ],
 "metadata": {
  "kernelspec": {
   "display_name": "Python 3 (ipykernel)",
   "language": "python",
   "name": "python3"
  },
  "language_info": {
   "codemirror_mode": {
    "name": "ipython",
    "version": 3
   },
   "file_extension": ".py",
   "mimetype": "text/x-python",
   "name": "python",
   "nbconvert_exporter": "python",
   "pygments_lexer": "ipython3",
   "version": "3.9.12"
  }
 },
 "nbformat": 4,
 "nbformat_minor": 5
}
