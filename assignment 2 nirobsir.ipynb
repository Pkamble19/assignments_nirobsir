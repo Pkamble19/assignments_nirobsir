{
 "cells": [
  {
   "cell_type": "markdown",
   "id": "0bf13023",
   "metadata": {},
   "source": [
    "# 1. Write a Python program to get a list, sorted in increasing order by the last element in each tuple from a given list of non-empty tuples\n"
   ]
  },
  {
   "cell_type": "code",
   "execution_count": 1,
   "id": "599f80eb",
   "metadata": {},
   "outputs": [
    {
     "name": "stdout",
     "output_type": "stream",
     "text": [
      "Sorted:\n",
      "[(2, 1), (1, 2), (2, 3), (4, 4), (2, 5)]\n"
     ]
    }
   ],
   "source": [
    "def last_key(n):\n",
    "\treturn n[-1]\n",
    "\n",
    "def sort(tuples):\n",
    "\treturn sorted(tuples, key=last_key)\n",
    "\n",
    "List = [(2,5), (1,2), (4,4), (2,3), (2,1)]\n",
    "print(\"Sorted:\")\n",
    "print(sort(List))"
   ]
  },
  {
   "cell_type": "markdown",
   "id": "ed46f991",
   "metadata": {},
   "source": [
    "# 02. Write a Python program to print a dictionary whose keys should be the alphabet from a-z and the value should be corresponding ASCII values"
   ]
  },
  {
   "cell_type": "code",
   "execution_count": 2,
   "id": "33395387",
   "metadata": {},
   "outputs": [
    {
     "name": "stdout",
     "output_type": "stream",
     "text": [
      "in dictionory format= \n",
      " {'a': 97, 'b': 98, 'c': 99, 'd': 100, 'e': 101, 'f': 102, 'g': 103, 'h': 104, 'i': 105, 'j': 106, 'k': 107, 'l': 108, 'm': 109, 'n': 110, 'o': 111, 'p': 112, 'q': 113, 'r': 114, 's': 115, 't': 116, 'u': 117, 'v': 118, 'w': 119, 'x': 120, 'y': 121, 'z': 122}\n"
     ]
    }
   ],
   "source": [
    "a=[\"a\",'b','c','d','e','f','g','h','i','j','k','l','m','n','o','p','q','r','s','t','u','v','w','x','y','z']\n",
    "d={}\n",
    "for i in a:\n",
    "    d[i]=ord(i)\n",
    "print(\"in dictionory format= \\n\", d)\n"
   ]
  },
  {
   "cell_type": "code",
   "execution_count": null,
   "id": "eaa7c7bb",
   "metadata": {},
   "outputs": [],
   "source": []
  }
 ],
 "metadata": {
  "kernelspec": {
   "display_name": "Python 3 (ipykernel)",
   "language": "python",
   "name": "python3"
  },
  "language_info": {
   "codemirror_mode": {
    "name": "ipython",
    "version": 3
   },
   "file_extension": ".py",
   "mimetype": "text/x-python",
   "name": "python",
   "nbconvert_exporter": "python",
   "pygments_lexer": "ipython3",
   "version": "3.9.12"
  }
 },
 "nbformat": 4,
 "nbformat_minor": 5
}
