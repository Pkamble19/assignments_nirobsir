{
 "cells": [
  {
   "cell_type": "markdown",
   "id": "71318d19",
   "metadata": {},
   "source": [
    "# 1. Take a strings of lenth 50 character and count the presence of each character and print the 2nd and 3 rd lowest and highest occurred/presence character.\n"
   ]
  },
  {
   "cell_type": "code",
   "execution_count": 74,
   "id": "7e279edb",
   "metadata": {},
   "outputs": [
    {
     "name": "stdout",
     "output_type": "stream",
     "text": [
      "2nd lowest & Highest:  f & a \n",
      "3nd lowest & Highest:  z & t \n",
      "\n"
     ]
    }
   ],
   "source": [
    "a=\"The data scientist role combines computer science, statistics, and mathematics. They analyze, process, and model data and then interpret the results to create actionable plans for companies and other organizations. Data scientists are big data wranglers, gathering and analyzing large sets of structured and unstructured data\" \n",
    "l={} #Created the dict to store value\n",
    "for i in a: #loop for extract string values\n",
    "    l[a.count(i)]=i #upending values in created dict\n",
    "list_h=list(l.keys()) #created a list of dict keys \n",
    "list_h.sort() #short key values in asc\n",
    "second_Low_value=list_h[1] #getting value using place numbers \n",
    "third_low_value=list_h[2]\n",
    "second_highest_value=list_h[-2]\n",
    "Third_highest_value=list_h[-3]\n",
    "\n",
    "print (\"2nd lowest & Highest: \",l[second_Low_value],'&',l[second_highest_value],\"\\n\" #print values using keys from created dict \n",
    "      \"3nd lowest & Highest: \",l[third_low_value],'&',l[Third_highest_value],\"\\n\")"
   ]
  },
  {
   "cell_type": "code",
   "execution_count": 40,
   "id": "f7f7e4e7",
   "metadata": {},
   "outputs": [
    {
     "name": "stdout",
     "output_type": "stream",
     "text": [
      "2nd lowest & Highest:  D & B \n",
      "3nd lowest & Highest:  C & C \n",
      "\n"
     ]
    }
   ],
   "source": [
    "a=\"AAAAABBBBCCCDDE\"\n",
    "l={} #Created the dict to store value\n",
    "for i in a: #loop for extract string values\n",
    "    l[a.count(i)]=i #upending values in created dict\n",
    "list_h=list(l.keys()) #created a list of dict keys \n",
    "list_h.sort() #short key values in asc\n",
    "second_Low_value=list_h[1] #getting value using place numbers \n",
    "third_low_value=list_h[2]\n",
    "second_highest_value=list_h[-2]\n",
    "Third_highest_value=list_h[-3]\n",
    "\n",
    "print (\"2nd lowest & Highest: \",l[second_Low_value],'&',l[second_highest_value],\"\\n\" #print values using keys from created dict \n",
    "      \"3nd lowest & Highest: \",l[third_low_value],'&',l[Third_highest_value],\"\\n\")"
   ]
  },
  {
   "cell_type": "markdown",
   "id": "f25ad914",
   "metadata": {},
   "source": [
    "# '''2. Find the reverse the string without any inbuilt function / slicing techniques. ( Can use loop)"
   ]
  },
  {
   "cell_type": "code",
   "execution_count": 73,
   "id": "b2ef397e",
   "metadata": {},
   "outputs": [
    {
     "name": "stdout",
     "output_type": "stream",
     "text": [
      "EDCBA\n"
     ]
    }
   ],
   "source": [
    "X = \"ABCDE\" #string provided\n",
    "X_RE=\"\" #empty string to store reverse value\n",
    "for i in X:\n",
    "    X_RE= i + X_RE #placing new i value before old i values\n",
    "print(X_RE)   "
   ]
  },
  {
   "cell_type": "code",
   "execution_count": null,
   "id": "4325b0c1",
   "metadata": {},
   "outputs": [],
   "source": []
  },
  {
   "cell_type": "code",
   "execution_count": null,
   "id": "3228fc68",
   "metadata": {},
   "outputs": [],
   "source": []
  }
 ],
 "metadata": {
  "kernelspec": {
   "display_name": "Python 3 (ipykernel)",
   "language": "python",
   "name": "python3"
  },
  "language_info": {
   "codemirror_mode": {
    "name": "ipython",
    "version": 3
   },
   "file_extension": ".py",
   "mimetype": "text/x-python",
   "name": "python",
   "nbconvert_exporter": "python",
   "pygments_lexer": "ipython3",
   "version": "3.9.12"
  }
 },
 "nbformat": 4,
 "nbformat_minor": 5
}
