{
 "cells": [
  {
   "cell_type": "markdown",
   "id": "d7c86896",
   "metadata": {},
   "source": [
    "# Q1. write a python code to check if it is palindrome or not. A string is said to be palindrome if the reverse of the string is the same as string.\n",
    "\n",
    "# For eg: \n",
    "# Input : AABBAA\n",
    "# Output : Yes\n",
    "\n",
    "# Input : ABCD\n",
    "# Output : No"
   ]
  },
  {
   "cell_type": "code",
   "execution_count": 1,
   "id": "0ca974e7",
   "metadata": {
    "scrolled": true
   },
   "outputs": [
    {
     "name": "stdout",
     "output_type": "stream",
     "text": [
      "True\n",
      "False\n"
     ]
    }
   ],
   "source": [
    "#method 1 without inbuilt fun\n",
    "def ispalindrome (input_value):\n",
    "    output=''\n",
    "    for i in input_value:  #reverse each string var \n",
    "        output=i+output\n",
    "    if output==input_value: #check if reverse of insert value and input value is sim\n",
    "        print(True)         #if sim then print True\n",
    "    else:\n",
    "        print(False)         #if not sim then print True\n",
    "        \n",
    "ispalindrome('AABBAA')\n",
    "ispalindrome('ABCD')\n",
    "        "
   ]
  },
  {
   "cell_type": "code",
   "execution_count": 2,
   "id": "fc83c4cd",
   "metadata": {},
   "outputs": [
    {
     "name": "stdout",
     "output_type": "stream",
     "text": [
      "True\n",
      "False\n"
     ]
    }
   ],
   "source": [
    "#method 2 with inbuilt fun\n",
    "def ispalindrome (input_value):\n",
    "    if input_value == input_value[::-1]: #reverse using [::-1]\n",
    "        print(True)         #if sim then print True\n",
    "    else:\n",
    "        print(False)         #if not sim then print True\n",
    "        \n",
    "ispalindrome('AABBAA')\n",
    "ispalindrome('ABCD')\n",
    "    "
   ]
  },
  {
   "cell_type": "markdown",
   "id": "1303c356",
   "metadata": {},
   "source": [
    "# Q2. write a python code to calculate sum of odd number  less than 10.\n",
    "    "
   ]
  },
  {
   "cell_type": "code",
   "execution_count": 3,
   "id": "ed299479",
   "metadata": {},
   "outputs": [
    {
     "name": "stdout",
     "output_type": "stream",
     "text": [
      "25\n"
     ]
    }
   ],
   "source": [
    "#method 1 \n",
    "def odd_sum(n): \n",
    "    sum=0 \n",
    "    for i in range (n+1): # check evry number in range of n\n",
    "        if (i%2)!=0:      #if not even then\n",
    "            sum=i+sum     #add number in sum value which is by default 0\n",
    "        else:\n",
    "            pass\n",
    "    print(sum)\n",
    "odd_sum(10)"
   ]
  },
  {
   "cell_type": "code",
   "execution_count": 4,
   "id": "62359eea",
   "metadata": {},
   "outputs": [
    {
     "name": "stdout",
     "output_type": "stream",
     "text": [
      " sum of odd number under 10 is 25.0\n"
     ]
    }
   ],
   "source": [
    "#method 2 \n",
    "odd_number=10 #cal sum of odd number under 10\n",
    "formula1=(10/2) #using formula for that (n)2\n",
    "formula2=formula1*formula1 \n",
    "print (f' sum of odd number under {odd_number} is {formula2}' )"
   ]
  },
  {
   "cell_type": "markdown",
   "id": "1c504130",
   "metadata": {},
   "source": [
    "# Q3. Write a Python Program to Check whether number is a Prime Number or not"
   ]
  },
  {
   "cell_type": "code",
   "execution_count": 5,
   "id": "d83cc073",
   "metadata": {},
   "outputs": [
    {
     "name": "stdout",
     "output_type": "stream",
     "text": [
      "True\n",
      "True\n",
      "False\n",
      "True\n",
      "False\n"
     ]
    }
   ],
   "source": [
    "# method 1\n",
    "def isprime(n): #n = value\n",
    "    if n > 1: #if n is less that 1 then its false as 0 and 1 is not prime\n",
    "        for i in range(2,n): # check every number for prin in 2 to n range\n",
    "            if (n % i) == 0:\n",
    "                print(\"False\") #if n is divisible by i then its not prime \n",
    "                break          #prime numbers is divisible by 1 and itself\n",
    "        else:\n",
    "            print(\"True\")      \n",
    "    else:\n",
    "        print(\"False\")\n",
    "isprime(2)\n",
    "isprime(3)\n",
    "isprime(4)\n",
    "isprime(5)\n",
    "isprime(6)"
   ]
  },
  {
   "cell_type": "markdown",
   "id": "2a4f2773",
   "metadata": {},
   "source": [
    "# Q. 4 write a python code to check which number is divisible by 5 and if the number is divisible by 5 then check whether number is divisible by 20 or not. If divisible then print the list of number. "
   ]
  },
  {
   "cell_type": "code",
   "execution_count": 6,
   "id": "97f39757",
   "metadata": {},
   "outputs": [
    {
     "name": "stdout",
     "output_type": "stream",
     "text": [
      "[20, 40, 60, 80, 100, 200, 300, 400, 500, 600, 700, 800, 900, 1000]\n"
     ]
    }
   ],
   "source": [
    "#method 1\n",
    "def isdiv5and20(n): \n",
    "    l=[] #list for append result\n",
    "    for i in n: \n",
    "        if (i%5)==0: #check for number is divisible by 5 or not\n",
    "            if (i%20)==0:# if number is divisible by 5 the check for divisible for 20\n",
    "                l.append(i) #if both conditions are matched then append to list \n",
    "        else:\n",
    "            pass\n",
    "    print(l)\n",
    "\n",
    "isdiv5and20([10,20,30,40,50,60,70,80,90,100,200,300,400,500,600,700,800,900,1000])\n",
    "\n",
    "            \n",
    "        \n",
    "    "
   ]
  },
  {
   "cell_type": "code",
   "execution_count": 7,
   "id": "deccd77b",
   "metadata": {},
   "outputs": [
    {
     "name": "stdout",
     "output_type": "stream",
     "text": [
      "[20, 40, 60, 80, 100, 200, 300, 400, 500, 600, 700, 800, 900, 1000]\n"
     ]
    }
   ],
   "source": [
    "#method 2 short\n",
    "def isdiv5and20(n): \n",
    "    l=[] #list for append result\n",
    "    for i in n: \n",
    "        if (i%5)==0 and (i%20)==0: #check  for divisible 5 and 20\n",
    "            l.append(i) #if both conditions are matched then append to list \n",
    "        else:\n",
    "            pass\n",
    "    print(l)\n",
    "\n",
    "isdiv5and20([10,20,30,40,50,60,70,80,90,100,200,300,400,500,600,700,800,900,1000])"
   ]
  },
  {
   "cell_type": "code",
   "execution_count": null,
   "id": "7ff4bf81",
   "metadata": {},
   "outputs": [],
   "source": []
  }
 ],
 "metadata": {
  "kernelspec": {
   "display_name": "Python 3 (ipykernel)",
   "language": "python",
   "name": "python3"
  },
  "language_info": {
   "codemirror_mode": {
    "name": "ipython",
    "version": 3
   },
   "file_extension": ".py",
   "mimetype": "text/x-python",
   "name": "python",
   "nbconvert_exporter": "python",
   "pygments_lexer": "ipython3",
   "version": "3.9.12"
  }
 },
 "nbformat": 4,
 "nbformat_minor": 5
}
