{
 "cells": [
  {
   "cell_type": "markdown",
   "id": "7ebd610f",
   "metadata": {},
   "source": [
    "# Write a Python program to get the Fibonacci series between 0 to 50"
   ]
  },
  {
   "cell_type": "code",
   "execution_count": 1,
   "id": "f1e605a3",
   "metadata": {},
   "outputs": [
    {
     "name": "stdout",
     "output_type": "stream",
     "text": [
      "0\n",
      "1\n",
      "1\n",
      "2\n",
      "3\n",
      "5\n",
      "8\n",
      "13\n",
      "21\n",
      "34\n",
      "55\n"
     ]
    }
   ],
   "source": [
    "a = 0\n",
    "b = 1\n",
    "print(a)\n",
    "print(b)\n",
    "for i in range(2,50):\n",
    "    c = a + b\n",
    "    a = b\n",
    "    b = c\n",
    "    print(c)\n",
    "    if c > 50:\n",
    "        break"
   ]
  },
  {
   "cell_type": "markdown",
   "id": "24dfa591",
   "metadata": {},
   "source": [
    "# Q.2 Write a Python program that accepts a word from the user and reverse it."
   ]
  },
  {
   "cell_type": "code",
   "execution_count": 2,
   "id": "37bd836b",
   "metadata": {},
   "outputs": [
    {
     "name": "stdout",
     "output_type": "stream",
     "text": [
      "type your word or sentence which you want to reversePrathamesh\n",
      "reverse of Prathamesh is  hsemahtarP\n"
     ]
    }
   ],
   "source": [
    "User_input=input(\"type your word or sentence which you want to reverse\")\n",
    "print(\"reverse of %s is \"%User_input  ,User_input[::-1])\n",
    "\n"
   ]
  },
  {
   "cell_type": "markdown",
   "id": "17db8c31",
   "metadata": {},
   "source": [
    "# Q.3 Write a Python program to count the number of even and odd numbers from a series of numbers."
   ]
  },
  {
   "cell_type": "code",
   "execution_count": 4,
   "id": "b6cb4fff",
   "metadata": {},
   "outputs": [
    {
     "name": "stdout",
     "output_type": "stream",
     "text": [
      "Enter a first value of range0\n",
      "Enter a second value of range10\n",
      "Total odd numbers = 5 and Total even numbers =  6 here is all odd numbers  [1, 3, 5, 7, 9] here is all even numbers [0, 2, 4, 6, 8, 10]\n"
     ]
    }
   ],
   "source": [
    "first_value=int(input(\"Enter a first value of range\"))\n",
    "second_value=int(input(\"Enter a second value of range\"))+1\n",
    "odd=[]\n",
    "even=[]\n",
    "for i in range(first_value,second_value):\n",
    "    if (i%2)==0:\n",
    "        even.append(i)\n",
    "    else:\n",
    "        odd.append(i)\n",
    "a=len(odd)\n",
    "b=len(even)\n",
    "print(\"Total odd numbers =\",a,\"and Total even numbers = \",b, \"here is all odd numbers \",odd, \"here is all even numbers\",even)\n"
   ]
  },
  {
   "cell_type": "code",
   "execution_count": null,
   "id": "e24001c9",
   "metadata": {},
   "outputs": [],
   "source": []
  }
 ],
 "metadata": {
  "kernelspec": {
   "display_name": "Python 3 (ipykernel)",
   "language": "python",
   "name": "python3"
  },
  "language_info": {
   "codemirror_mode": {
    "name": "ipython",
    "version": 3
   },
   "file_extension": ".py",
   "mimetype": "text/x-python",
   "name": "python",
   "nbconvert_exporter": "python",
   "pygments_lexer": "ipython3",
   "version": "3.9.12"
  }
 },
 "nbformat": 4,
 "nbformat_minor": 5
}
