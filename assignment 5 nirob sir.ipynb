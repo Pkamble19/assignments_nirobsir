{
 "cells": [
  {
   "cell_type": "markdown",
   "id": "bb59dd65",
   "metadata": {},
   "source": [
    "# Qn 1\n",
    "\n",
    "Write a program to find all occurrences of “USA” in a given string ignoring the case.\n",
    "\n",
    "X= \"Welcome to USA. usa awesome, isn't it?\"\n",
    "\n",
    "Output : The USA count is: 2"
   ]
  },
  {
   "cell_type": "code",
   "execution_count": 86,
   "id": "4bc727b3",
   "metadata": {},
   "outputs": [
    {
     "name": "stdout",
     "output_type": "stream",
     "text": [
      " The USA count is: 2\n"
     ]
    }
   ],
   "source": [
    "\n",
    "#method 1\n",
    "X= \"Welcome to USA. usa awesome, isn't it?\"\n",
    "a=\"\"\n",
    "l=[]\n",
    "b=\"\"\n",
    "d=0\n",
    "for i in X:\n",
    "    if i == \".\" or i == \",\" or i == \"'\" or i == \"?\" :\n",
    "        pass\n",
    "    else:\n",
    "        a=a+i.upper()\n",
    "for i in a:\n",
    "    if i == \" \":\n",
    "        l.append(b)\n",
    "        b=\"\"\n",
    "    else:\n",
    "        b+=i\n",
    "for f in l:\n",
    "    if f == \"USA\":\n",
    "        d=d+1\n",
    "print(f' The USA count is: {d}')\n"
   ]
  },
  {
   "cell_type": "code",
   "execution_count": 57,
   "id": "608eba09",
   "metadata": {},
   "outputs": [
    {
     "name": "stdout",
     "output_type": "stream",
     "text": [
      " The USA count is: 2\n"
     ]
    }
   ],
   "source": [
    "#method 2\n",
    "X= \"Welcome to USA. usa awesome, isn't it?\"\n",
    "C=0\n",
    "for i in (X.replace(\".\",\"\").replace(\"'\",\"\").replace(\"!\",\"\")).split(): #removing all char\n",
    "    if i.upper() == \"USA\":\n",
    "        C=C+1\n",
    "print(f' The USA count is: {C}')\n"
   ]
  },
  {
   "cell_type": "code",
   "execution_count": 58,
   "id": "52dc9c3d",
   "metadata": {},
   "outputs": [
    {
     "name": "stdout",
     "output_type": "stream",
     "text": [
      " The USA count is: 2\n"
     ]
    }
   ],
   "source": [
    "#method 3\n",
    "X= \"Welcome to USA. usa awesome, isn't it?\"\n",
    "print(f' The USA count is: {X.upper().count(\"USA\")}')\n"
   ]
  },
  {
   "cell_type": "code",
   "execution_count": 90,
   "id": "5016cce4",
   "metadata": {},
   "outputs": [
    {
     "name": "stdout",
     "output_type": "stream",
     "text": [
      " The USA count is: 2\n"
     ]
    }
   ],
   "source": [
    "#method 4\n",
    "X= \"Welcome to USA. usa awesome, isn't it?\"\n",
    "l=[]\n",
    "d=0\n",
    "for i in X:\n",
    "    x=\"\".join (i for i in X if i.isalpha() or i == \" \")\n",
    "x=x.upper()\n",
    "b=\"\"\n",
    "for i in x:\n",
    "    if i == \" \":\n",
    "        l.append(b)\n",
    "        b=\"\"\n",
    "    else:\n",
    "        b+=i\n",
    "for f in l:\n",
    "    if f == \"USA\":\n",
    "        d=d+1\n",
    "print(f' The USA count is: {d}')\n"
   ]
  },
  {
   "cell_type": "markdown",
   "id": "a05a800e",
   "metadata": {},
   "source": [
    "# qn 2\n",
    "write a program to return the sum and average of the digits that appear in the string, ignoring all other characters\n",
    "\n",
    "\n",
    "X= \"abcd29@efg#8496\"\n",
    "\n",
    "Output: Sum is: 38 Average is  6.33"
   ]
  },
  {
   "cell_type": "code",
   "execution_count": 107,
   "id": "bcd87e4c",
   "metadata": {},
   "outputs": [
    {
     "name": "stdout",
     "output_type": "stream",
     "text": [
      "Sum is: 38 Average is 6.33\n"
     ]
    }
   ],
   "source": [
    "#method 1\n",
    "X= \"abcd29@efg#8496\"\n",
    "b=0\n",
    "c=0\n",
    "for i in X:\n",
    "    if i.isnumeric():\n",
    "        b+=int(i)\n",
    "        c+=1\n",
    "avg = b/c\n",
    "print(f'Sum is: {b} Average is {round(avg,2)}')\n",
    "        "
   ]
  },
  {
   "cell_type": "code",
   "execution_count": 110,
   "id": "cf86aa11",
   "metadata": {},
   "outputs": [
    {
     "name": "stdout",
     "output_type": "stream",
     "text": [
      "Sum is: 38 Average is 6.33\n"
     ]
    }
   ],
   "source": [
    "#method 2\n",
    "X= \"abcd29@efg#8496\"\n",
    "b=0\n",
    "c=0\n",
    "for i in X:\n",
    "    if i.isnumeric():\n",
    "        b+=int(i)\n",
    "        c+=1\n",
    "avg = b/c\n",
    "print(f'Sum is: {b} Average is {(str(avg))[0:4]}')\n",
    "        "
   ]
  },
  {
   "cell_type": "code",
   "execution_count": 119,
   "id": "b5cda1a3",
   "metadata": {},
   "outputs": [
    {
     "name": "stdout",
     "output_type": "stream",
     "text": [
      "Sum is: 38 Average is 6.33\n"
     ]
    }
   ],
   "source": [
    "#method 3\n",
    "X= \"abcd29@efg#8496\"\n",
    "b=[]\n",
    "for i in X:\n",
    "    if i.isnumeric():\n",
    "        b.append(int(i))\n",
    "print(f'Sum is: {sum(b)} Average is {round(sum(b)/len(b),2)}')\n",
    "\n"
   ]
  },
  {
   "cell_type": "markdown",
   "id": "c14fa017",
   "metadata": {},
   "source": [
    "# Qn 3\n",
    "Write a program to find the last position of a substring “Emma” in a given string.\n",
    "\n",
    "X= \"As you know, the stings are widely used to hold textual data. To perform any programming tasks in Python, a good understanding of string manipulations are necessary\"\n",
    "\n",
    "Output: last index of \"are\" : 151"
   ]
  },
  {
   "cell_type": "code",
   "execution_count": 123,
   "id": "9df01015",
   "metadata": {},
   "outputs": [
    {
     "name": "stdout",
     "output_type": "stream",
     "text": [
      " last index of \"are\" : 151\n"
     ]
    }
   ],
   "source": [
    "#method 1\n",
    "X= \"As you know, the stings are widely used to hold textual data. To perform any programming tasks in Python, a good understanding of string manipulations are necessary\"\n",
    "print (F' last index of \"are\" : {X.rindex(\"are\")}')"
   ]
  },
  {
   "cell_type": "code",
   "execution_count": 127,
   "id": "122adc1c",
   "metadata": {},
   "outputs": [
    {
     "name": "stdout",
     "output_type": "stream",
     "text": [
      " last index of \"are\" : 151\n"
     ]
    }
   ],
   "source": [
    "#method 2\n",
    "X= \"As you know, the stings are widely used to hold textual data. To perform any programming tasks in Python, a good understanding of string manipulations are necessary\"\n",
    "print (F' last index of \"are\" : {X.rfind(\"are\")}')"
   ]
  },
  {
   "cell_type": "code",
   "execution_count": null,
   "id": "d355a7d5",
   "metadata": {},
   "outputs": [],
   "source": []
  }
 ],
 "metadata": {
  "kernelspec": {
   "display_name": "Python 3 (ipykernel)",
   "language": "python",
   "name": "python3"
  },
  "language_info": {
   "codemirror_mode": {
    "name": "ipython",
    "version": 3
   },
   "file_extension": ".py",
   "mimetype": "text/x-python",
   "name": "python",
   "nbconvert_exporter": "python",
   "pygments_lexer": "ipython3",
   "version": "3.9.12"
  }
 },
 "nbformat": 4,
 "nbformat_minor": 5
}
