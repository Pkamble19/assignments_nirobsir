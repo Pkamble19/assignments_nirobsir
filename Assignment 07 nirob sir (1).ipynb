{
 "cells": [
  {
   "cell_type": "markdown",
   "id": "862f87c1",
   "metadata": {},
   "source": [
    "# Q1. Write a python code to get the word/ substring which has maximum length from the string X. ( Ignore substring with special character like #, ₹,! & ...etc) "
   ]
  },
  {
   "cell_type": "code",
   "execution_count": 1,
   "id": "7cae9f2f",
   "metadata": {},
   "outputs": [
    {
     "name": "stdout",
     "output_type": "stream",
     "text": [
      "Maximum length substring= something\n",
      "Maximum length substring with Token1 = S1o2m3e4t5hing\n",
      "Maximum length substring with Token2 = S1o1m2e2t3h3i4n4g5566\n"
     ]
    }
   ],
   "source": [
    "#method 1\n",
    "X = \" Comments!! are used## to write something which₹₹  the programmer&& does not want to execute\"\n",
    "Token1= \"12345\"\n",
    "Token2 = \"112233445566\"\n",
    "Token1=list(Token1)\n",
    "Token2=list(Token2)\n",
    "le=-1\n",
    "X=X.split()\n",
    "Tout=\"\"\n",
    "Tout2=\"\"\n",
    "for i in X: #removing string with spacial char\n",
    "    if i.isalpha()==False:\n",
    "        X.remove(i)\n",
    "for i in X: #checking which is max substring\n",
    "    if len(i)>le:\n",
    "        le=len(i)\n",
    "        max_w=i\n",
    "max_wl=max_w.capitalize()\n",
    "max_w1=max_wl\n",
    "while max_wl: #using loop to join max substring and token 1\n",
    "    max_wl=list(max_wl)\n",
    "    for i in max_wl[0]:\n",
    "        a=\"\"\n",
    "        for f in Token1:\n",
    "            if a==\"\":\n",
    "                a=f\n",
    "                Token1.remove(f)\n",
    "        Tout=Tout+i+a\n",
    "        max_wl.remove(i)\n",
    "while Token2:  #using loop to join max substring and token 2\n",
    "    max_w1=list(max_w1)\n",
    "    for i in Token2[0]:\n",
    "        a=\"\"\n",
    "        for f in max_w1:\n",
    "            if a==\"\":\n",
    "                a=f\n",
    "                max_w1.remove(f)\n",
    "        Tout2=Tout2+a+i\n",
    "        Token2.remove(i)\n",
    "\n",
    "print(f'Maximum length substring= {max_w}') \n",
    "\n",
    "print(f'Maximum length substring with Token1 = {Tout}')\n",
    "\n",
    "print(f'Maximum length substring with Token2 = {Tout2}')"
   ]
  },
  {
   "cell_type": "code",
   "execution_count": 2,
   "id": "0443e6a5",
   "metadata": {},
   "outputs": [
    {
     "name": "stdout",
     "output_type": "stream",
     "text": [
      "Maximum length substring= something\n",
      "Maximum length substring with Token1 = S1o2m3e4t5hing\n",
      "Maximum length substring with Token2 = S1o1m2e2t3h3i4n4g5566\n"
     ]
    }
   ],
   "source": [
    "#method2\n",
    "X = \" Comments!! are used## to write something which₹₹  the programmer&& does not want to execute\"\n",
    "Token1= \"12345\"\n",
    "Token2 = \"112233445566\"\n",
    "X=X.split()\n",
    "Token1=list(Token1)\n",
    "Token2=list(Token2)\n",
    "Tout=\"\"\n",
    "Tout2=\"\"\n",
    "for i in X: #removing string with spacial char\n",
    "    if i.isalpha()==False:\n",
    "        X.remove(i)\n",
    "X=max(X , key=len).capitalize()\n",
    "X_list=list(X)\n",
    "X_list1=list(X)\n",
    "while X_list: #using loop to join max substring and token 1\n",
    "    for i in X_list[0]:\n",
    "        a=\"\"\n",
    "        for f in Token1:\n",
    "            if a==\"\":\n",
    "                a=f\n",
    "                Token1.remove(f)\n",
    "        Tout=Tout+i+a\n",
    "        X_list.remove(i)\n",
    "while Token2:  #using loop to join max substring and token 2\n",
    "    for i in Token2[0]:\n",
    "        a=\"\"\n",
    "        for f in X_list1:\n",
    "            if a==\"\":\n",
    "                a=f\n",
    "                X_list1.remove(f)\n",
    "        Tout2=Tout2+a+i\n",
    "        Token2.remove(i)\n",
    "print(f'Maximum length substring= {max_w}') \n",
    "\n",
    "print(f'Maximum length substring with Token1 = {Tout}')\n",
    "\n",
    "print(f'Maximum length substring with Token2 = {Tout2}')\n",
    "\n"
   ]
  },
  {
   "cell_type": "markdown",
   "id": "f2db09f9",
   "metadata": {},
   "source": [
    "# List of questions they have asked me: \n",
    "\n",
    "#  Calculate the maximum frequency of all the characters.\n",
    "\n",
    "# X = \"aabbbcccde\"\n",
    "\n",
    "# Output: [ b, c ] "
   ]
  },
  {
   "cell_type": "code",
   "execution_count": 3,
   "id": "74cb3095",
   "metadata": {},
   "outputs": [
    {
     "name": "stdout",
     "output_type": "stream",
     "text": [
      "['c', 'b']\n"
     ]
    }
   ],
   "source": [
    "X = \"aabbbcccde\"\n",
    "D=[]\n",
    "l=\"\"\n",
    "for i in X:\n",
    "    a=X.count(i)\n",
    "    b=f'{a}:{i}'\n",
    "    if b!=D:\n",
    "        D.append(b)\n",
    "a=max(D)\n",
    "for i in X:\n",
    "    b=X.count(i)\n",
    "    if b==int(a[0]):\n",
    "        l=l+i\n",
    "print(list(set(l)))"
   ]
  },
  {
   "cell_type": "markdown",
   "id": "08bf6f2f",
   "metadata": {},
   "source": [
    "# 2.  Reverse the string without vowels from string\n",
    "\n",
    "# X = \"NIPA\"\n",
    "\n",
    "# Output:\n",
    "# Reverse with vowels = \"APIN'\n",
    "\n",
    "# Reverse without vowels = \"PN\""
   ]
  },
  {
   "cell_type": "code",
   "execution_count": 4,
   "id": "2232aaea",
   "metadata": {},
   "outputs": [
    {
     "name": "stdout",
     "output_type": "stream",
     "text": [
      "Reverse with vowels = APIN\n",
      "Reverse without vowels = PN\n"
     ]
    }
   ],
   "source": [
    "X = \"NIPA\"\n",
    "RWV=\"\"\n",
    "EWIV=\"\"\n",
    "for i in X:\n",
    "    RWV=i+RWV\n",
    "for i in X:\n",
    "    if i.lower() in [\"a\",\"i\",\"u\",\"e\",\"o\"]:\n",
    "        pass\n",
    "    else:\n",
    "        EWIV=i+EWIV\n",
    "print(f'Reverse with vowels = {RWV}')\n",
    "print(f'Reverse without vowels = {EWIV}')"
   ]
  },
  {
   "cell_type": "code",
   "execution_count": null,
   "id": "e0327d86",
   "metadata": {},
   "outputs": [],
   "source": []
  }
 ],
 "metadata": {
  "kernelspec": {
   "display_name": "Python 3 (ipykernel)",
   "language": "python",
   "name": "python3"
  },
  "language_info": {
   "codemirror_mode": {
    "name": "ipython",
    "version": 3
   },
   "file_extension": ".py",
   "mimetype": "text/x-python",
   "name": "python",
   "nbconvert_exporter": "python",
   "pygments_lexer": "ipython3",
   "version": "3.9.12"
  }
 },
 "nbformat": 4,
 "nbformat_minor": 5
}
