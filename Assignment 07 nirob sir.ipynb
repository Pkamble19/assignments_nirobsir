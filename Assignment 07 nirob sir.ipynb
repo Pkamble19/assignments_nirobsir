{
 "cells": [
  {
   "cell_type": "code",
   "execution_count": 7,
   "id": "28af78e7",
   "metadata": {},
   "outputs": [
    {
     "name": "stdout",
     "output_type": "stream",
     "text": [
      "Entre First Your Name: prathamesh\n",
      "Entre Middle Your Name: Prakash\n",
      "Entr Your SurName: Kamble\n",
      "Entre Your Email id name: prathameshkamble197@gmail.com\n",
      "Create Your User name: P@kasmble\n",
      "please entre only alphabates and numbers don't use spacial characters\n",
      "Create Your User name: Pkamble19\n",
      "Entre your dob dd/mm/yy19/7/1999\n",
      "Create Your Password: P@kamble19\n",
      "Entre Password again: jj\n",
      "Create Your Password: P@kamble\n",
      "Entre Password again: P@kamble\n",
      "Your Account is succesfully created\n",
      "Entre Your User name: Pkamble19\n",
      "Entre Your Password: P@kamble19\n"
     ]
    },
    {
     "ename": "NameError",
     "evalue": "name 'username' is not defined",
     "output_type": "error",
     "traceback": [
      "\u001b[1;31m---------------------------------------------------------------------------\u001b[0m",
      "\u001b[1;31mNameError\u001b[0m                                 Traceback (most recent call last)",
      "Input \u001b[1;32mIn [7]\u001b[0m, in \u001b[0;36m<cell line: 31>\u001b[1;34m()\u001b[0m\n\u001b[0;32m     29\u001b[0m     \u001b[38;5;28;01melse\u001b[39;00m:\n\u001b[0;32m     30\u001b[0m               \u001b[38;5;28mprint\u001b[39m(\u001b[38;5;124m\"\u001b[39m\u001b[38;5;124mcheck Userid and password again\u001b[39m\u001b[38;5;124m\"\u001b[39m)\n\u001b[1;32m---> 31\u001b[0m \u001b[43muser_sign_in\u001b[49m\u001b[43m(\u001b[49m\u001b[43m)\u001b[49m\n",
      "Input \u001b[1;32mIn [7]\u001b[0m, in \u001b[0;36muser_sign_in\u001b[1;34m()\u001b[0m\n\u001b[0;32m     20\u001b[0m user_full_name\u001b[38;5;241m=\u001b[39m(user_first_name\u001b[38;5;241m+\u001b[39mspace\u001b[38;5;241m+\u001b[39m user_middle_name \u001b[38;5;241m+\u001b[39mspace\u001b[38;5;241m+\u001b[39m user_sur_name)\n\u001b[0;32m     21\u001b[0m \u001b[38;5;28mprint\u001b[39m(\u001b[38;5;124m\"\u001b[39m\u001b[38;5;124mYour Account is succesfully created\u001b[39m\u001b[38;5;124m\"\u001b[39m)\n\u001b[1;32m---> 22\u001b[0m \u001b[43muser_login\u001b[49m\u001b[43m(\u001b[49m\u001b[43m)\u001b[49m\n",
      "Input \u001b[1;32mIn [7]\u001b[0m, in \u001b[0;36muser_login\u001b[1;34m()\u001b[0m\n\u001b[0;32m     25\u001b[0m Username_login\u001b[38;5;241m=\u001b[39m\u001b[38;5;28minput\u001b[39m(\u001b[38;5;124m\"\u001b[39m\u001b[38;5;124mEntre Your User name: \u001b[39m\u001b[38;5;124m\"\u001b[39m)\n\u001b[0;32m     26\u001b[0m Password_login\u001b[38;5;241m=\u001b[39m\u001b[38;5;28minput\u001b[39m(\u001b[38;5;124m\"\u001b[39m\u001b[38;5;124mEntre Your Password: \u001b[39m\u001b[38;5;124m\"\u001b[39m)\n\u001b[1;32m---> 27\u001b[0m \u001b[38;5;28;01mif\u001b[39;00m Username_login \u001b[38;5;241m==\u001b[39m \u001b[43musername\u001b[49m \u001b[38;5;129;01mand\u001b[39;00m Password_login\u001b[38;5;241m==\u001b[39mpassword:\n\u001b[0;32m     28\u001b[0m     \u001b[38;5;28mprint\u001b[39m(\u001b[38;5;124mF\u001b[39m\u001b[38;5;124m'\u001b[39m\u001b[38;5;124m login successfull /n Welcome \u001b[39m\u001b[38;5;132;01m{\u001b[39;00muser_full_name\u001b[38;5;132;01m}\u001b[39;00m\u001b[38;5;124m'\u001b[39m)\n\u001b[0;32m     29\u001b[0m \u001b[38;5;28;01melse\u001b[39;00m:\n",
      "\u001b[1;31mNameError\u001b[0m: name 'username' is not defined"
     ]
    }
   ],
   "source": [
    "#PAYMENT APP PROTO PROJECT\n",
    "def user_sign_in():\n",
    "    user_first_name=input(\"Entre First Your Name: \").title()\n",
    "    user_middle_name=input(\"Entre Middle Your Name: \").title()\n",
    "    user_sur_name=input(\"Entr Your SurName: \").title()\n",
    "    emailid=input(\"Entre Your Email id name: \")\n",
    "    while True:\n",
    "        username=input(\"Create Your User name: \")\n",
    "        if username.isalnum():\n",
    "            break\n",
    "        else:\n",
    "            print(\"please entre only alphabates and numbers don't use spacial characters\") \n",
    "    D_O_B=input(\"Entre your dob dd/mm/yyyy: \")\n",
    "    while True:\n",
    "        password=input(\"Create Your Password: \")\n",
    "        password_c=input(\"Entre Password again: \")\n",
    "        if password == password_c:\n",
    "            break\n",
    "        else:\n",
    "            print(\"passeord and enterd Conform password not matching entre again\")\n",
    "    space=\" \"\n",
    "    user_full_name=(user_first_name+space+ user_middle_name +space+ user_sur_name)\n",
    "    print(\"Your Account is succesfully created\")\n",
    "    user_login()\n",
    "    \n",
    "def user_login():\n",
    "    Username_login=input(\"Entre Your User name: \")\n",
    "    Password_login=input(\"Entre Your Password: \")\n",
    "    if Username_login == username and Password_login==password:\n",
    "        print(F' login successfull /n Welcome {user_full_name}')\n",
    "    else:\n",
    "              print(\"check Userid and password again\")\n",
    "user_sign_in()\n",
    "    "
   ]
  },
  {
   "cell_type": "code",
   "execution_count": null,
   "id": "db2fe8e6",
   "metadata": {},
   "outputs": [],
   "source": []
  },
  {
   "cell_type": "code",
   "execution_count": null,
   "id": "77526f36",
   "metadata": {},
   "outputs": [],
   "source": []
  }
 ],
 "metadata": {
  "kernelspec": {
   "display_name": "Python 3 (ipykernel)",
   "language": "python",
   "name": "python3"
  },
  "language_info": {
   "codemirror_mode": {
    "name": "ipython",
    "version": 3
   },
   "file_extension": ".py",
   "mimetype": "text/x-python",
   "name": "python",
   "nbconvert_exporter": "python",
   "pygments_lexer": "ipython3",
   "version": "3.9.12"
  }
 },
 "nbformat": 4,
 "nbformat_minor": 5
}
